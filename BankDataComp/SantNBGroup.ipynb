{
 "cells": [
  {
   "cell_type": "code",
   "execution_count": 2,
   "metadata": {},
   "outputs": [],
   "source": [
    "import gc\n",
    "import os\n",
    "import logging\n",
    "import datetime\n",
    "import warnings\n",
    "import numpy as np\n",
    "import pandas as pd\n",
    "import lightgbm as lgb\n",
    "from sklearn.metrics import mean_squared_error\n",
    "from sklearn.metrics import roc_auc_score, roc_curve\n",
    "from sklearn.model_selection import StratifiedKFold\n",
    "warnings.filterwarnings('ignore')\n",
    "import matplotlib.pyplot as plt\n",
    "%matplotlib inline\n",
    " \n",
    "    "
   ]
  },
  {
   "cell_type": "code",
   "execution_count": 18,
   "metadata": {},
   "outputs": [],
   "source": [
    "def process_data(train_df, test_df):    \n",
    "    idx = [c for c in train_df.columns if c not in ['ID_code', 'target']]\n",
    "    for df in [test_df, train_df]:\n",
    "        #for feat in idx:\n",
    "            #mean = df.loc[:,feat].mean()\n",
    "            #mode = df.loc[:,feat].astype(int).mode()\n",
    "            #print(\"Mean feat {0} = {1}\".format(feat, mean))\n",
    "            #print(\"Mode feat {0} = {1}\".format(feat, mode.iloc[0]))\n",
    "            #df['r2mm_'+feat] = np.round(df[feat], 2) -  mean \n",
    "            #if mean > 0.0:\n",
    "            #    df['r2mm_' +feat] = np.round(df[feat] - mode.iloc[0], 2)\n",
    "            #else:\n",
    "            #    df['r2mm_' +feat] = np.round(df[feat] - mean , 2)            \n",
    "        df['sum'] = df[idx].sum(axis=1)  \n",
    "        df['min'] = df[idx].min(axis=1)\n",
    "        df['max'] = df[idx].max(axis=1)\n",
    "        df['mean'] = df[idx].mean(axis=1)\n",
    "        df['std'] = df[idx].std(axis=1)\n",
    "        df['skew'] = df[idx].skew(axis=1)\n",
    "        df['kurt'] = df[idx].kurtosis(axis=1)\n",
    "        df['med'] = df[idx].median(axis=1)\n",
    "        \n",
    "        #plot the data\n",
    "        df.plot.scatter(x='mean', y='kurt')\n",
    "    test_df.to_csv(\"means-etc.csv\", index=False)\n",
    "    print('Train and test shape:',train_df.shape, test_df.shape)\n",
    "    train_df.head(10)\n",
    "    return train_df, test_df"
   ]
  },
  {
   "cell_type": "code",
   "execution_count": 19,
   "metadata": {},
   "outputs": [],
   "source": [
    "def run_model(train_df, test_df):\n",
    "    features = [c for c in train_df.columns if c not in ['ID_code', 'target']]\n",
    "    target = train_df['target']\n",
    "    param = {\n",
    "            'num_leaves': 15, #was 10\n",
    "            'max_bin': 119,\n",
    "            'min_data_in_leaf': 11,\n",
    "            'learning_rate': 0.02,\n",
    "            'min_sum_hessian_in_leaf': 0.00245,\n",
    "            'bagging_fraction': 1.0, \n",
    "            'bagging_freq': 5, \n",
    "            'feature_fraction': 0.05,\n",
    "            'lambda_l1': 4.972,\n",
    "            'lambda_l2': 2.276,\n",
    "            'min_gain_to_split': 0.65,\n",
    "            'max_depth': 20, #was 14\n",
    "            'save_binary': True,\n",
    "            'seed': 1337,\n",
    "            'feature_fraction_seed': 1337,\n",
    "            'bagging_seed': 1337,\n",
    "            'drop_seed': 1337,\n",
    "            'data_random_seed': 1337,\n",
    "            'objective': 'binary',\n",
    "            'boosting_type': 'gbdt',\n",
    "            'verbose': 1,\n",
    "            'metric': 'auc',\n",
    "            'is_unbalance': True,\n",
    "            'boost_from_average': True, #was false\n",
    "        }\n",
    "    num_round = 15000\n",
    "    folds = StratifiedKFold(n_splits=5, shuffle=True, random_state=2019)\n",
    "    oof = np.zeros(len(train_df))\n",
    "    predictions = np.zeros(len(test_df))\n",
    "    for fold_, (trn_idx, val_idx) in enumerate(folds.split(train_df.values, target.values)):\n",
    "        print(\"Fold {}\".format(fold_))\n",
    "        trn_data = lgb.Dataset(train_df.iloc[trn_idx][features], label=target.iloc[trn_idx])\n",
    "        val_data = lgb.Dataset(train_df.iloc[val_idx][features], label=target.iloc[val_idx])\n",
    "        clf = lgb.train(param, trn_data, num_round, valid_sets = [trn_data, val_data], verbose_eval=1000, early_stopping_rounds = 100)\n",
    "        oof[val_idx] = clf.predict(train_df.iloc[val_idx][features], num_iteration=clf.best_iteration)\n",
    "        predictions += clf.predict(test_df[features], num_iteration=clf.best_iteration) / folds.n_splits\n",
    "    print(\"CV score: {:<8.5f}\".format(roc_auc_score(target, oof)))\n",
    "    return predictions"
   ]
  },
  {
   "cell_type": "code",
   "execution_count": null,
   "metadata": {},
   "outputs": [
    {
     "name": "stdout",
     "output_type": "stream",
     "text": [
      "['sample_submission.csv', 'test.csv', 'train.csv']\n",
      "Training dataset\n",
      "----------------\n",
      "<class 'pandas.core.frame.DataFrame'>\n",
      "RangeIndex: 200000 entries, 0 to 199999\n",
      "Columns: 202 entries, ID_code to var_199\n",
      "dtypes: float64(200), int64(1), object(1)\n",
      "memory usage: 308.2+ MB\n",
      "Test dataset\n",
      "----------------\n",
      "<class 'pandas.core.frame.DataFrame'>\n",
      "RangeIndex: 200000 entries, 0 to 199999\n",
      "Columns: 201 entries, ID_code to var_199\n",
      "dtypes: float64(200), object(1)\n",
      "memory usage: 306.7+ MB\n"
     ]
    }
   ],
   "source": [
    "print(os.listdir(\"../input\"))\n",
    "train=pd.read_csv(\"../input/train.csv\")\n",
    "print(\"Training dataset\")\n",
    "print(\"----------------\")\n",
    "train.info()\n",
    "\n",
    "test=pd.read_csv(\"../input/test.csv\")\n",
    "print(\"Test dataset\")\n",
    "print(\"----------------\")\n",
    "test.info()\n",
    "\n",
    "features = [c for c in train.columns if c not in ['ID_code', 'target']]\n",
    "target = train['target']\n",
    "\n",
    "train_df, test_df = process_data(train, test)\n",
    "# predictions = run_model(train_df, test_df)\n",
    "# sub = pd.DataFrame({\"ID_code\": test_df.ID_code.values})\n",
    "# sub[\"target\"] = predictions\n",
    "# sub.to_csv(\"submission.csv\", index=False)"
   ]
  },
  {
   "cell_type": "code",
   "execution_count": null,
   "metadata": {},
   "outputs": [],
   "source": []
  },
  {
   "cell_type": "code",
   "execution_count": null,
   "metadata": {},
   "outputs": [],
   "source": []
  }
 ],
 "metadata": {
  "kernelspec": {
   "display_name": "Python 3",
   "language": "python",
   "name": "python3"
  },
  "language_info": {
   "codemirror_mode": {
    "name": "ipython",
    "version": 3
   },
   "file_extension": ".py",
   "mimetype": "text/x-python",
   "name": "python",
   "nbconvert_exporter": "python",
   "pygments_lexer": "ipython3",
   "version": "3.6.4"
  }
 },
 "nbformat": 4,
 "nbformat_minor": 2
}
