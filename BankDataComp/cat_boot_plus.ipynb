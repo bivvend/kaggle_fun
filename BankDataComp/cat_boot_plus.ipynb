{
 "cells": [
  {
   "cell_type": "code",
   "execution_count": 2,
   "metadata": {},
   "outputs": [],
   "source": [
    "import numpy as np \n",
    "import pandas as pd \n",
    "import matplotlib.pyplot as plt\n",
    "import lightgbm as lgb\n",
    "from sklearn.model_selection import KFold, StratifiedKFold\n",
    "import warnings\n",
    "import gc\n",
    "import time\n",
    "import sys\n",
    "import matplotlib.pyplot as plt\n",
    "\n",
    "from sklearn.metrics import mean_squared_error, roc_auc_score, roc_curve\n",
    "warnings.simplefilter(action='ignore', category=FutureWarning)\n",
    "warnings.filterwarnings('ignore')\n",
    "\n",
    "from catboost import Pool, CatBoostClassifier\n",
    "\n"
   ]
  },
  {
   "cell_type": "code",
   "execution_count": 1,
   "metadata": {},
   "outputs": [
    {
     "ename": "NameError",
     "evalue": "name 'pd' is not defined",
     "output_type": "error",
     "traceback": [
      "\u001b[1;31m---------------------------------------------------------------------------\u001b[0m",
      "\u001b[1;31mNameError\u001b[0m                                 Traceback (most recent call last)",
      "\u001b[1;32m<ipython-input-1-cfb914d07412>\u001b[0m in \u001b[0;36m<module>\u001b[1;34m\u001b[0m\n\u001b[1;32m----> 1\u001b[1;33m \u001b[0mtrain_df\u001b[0m \u001b[1;33m=\u001b[0m \u001b[0mpd\u001b[0m\u001b[1;33m.\u001b[0m\u001b[0mread_csv\u001b[0m\u001b[1;33m(\u001b[0m\u001b[1;34m\"../input/train.csv\"\u001b[0m\u001b[1;33m)\u001b[0m\u001b[1;33m\u001b[0m\u001b[1;33m\u001b[0m\u001b[0m\n\u001b[0m\u001b[0;32m      2\u001b[0m \u001b[0mtest_df\u001b[0m \u001b[1;33m=\u001b[0m \u001b[0mpd\u001b[0m\u001b[1;33m.\u001b[0m\u001b[0mread_csv\u001b[0m\u001b[1;33m(\u001b[0m\u001b[1;34m\"../input/test.csv\"\u001b[0m\u001b[1;33m)\u001b[0m\u001b[1;33m\u001b[0m\u001b[1;33m\u001b[0m\u001b[0m\n\u001b[0;32m      3\u001b[0m \u001b[1;33m\u001b[0m\u001b[0m\n\u001b[0;32m      4\u001b[0m \u001b[0midx\u001b[0m \u001b[1;33m=\u001b[0m \u001b[1;33m[\u001b[0m\u001b[0mc\u001b[0m \u001b[1;32mfor\u001b[0m \u001b[0mc\u001b[0m \u001b[1;32min\u001b[0m \u001b[0mtrain_df\u001b[0m\u001b[1;33m.\u001b[0m\u001b[0mcolumns\u001b[0m \u001b[1;32mif\u001b[0m \u001b[0mc\u001b[0m \u001b[1;32mnot\u001b[0m \u001b[1;32min\u001b[0m \u001b[1;33m[\u001b[0m\u001b[1;34m'ID_code'\u001b[0m\u001b[1;33m,\u001b[0m \u001b[1;34m'target'\u001b[0m\u001b[1;33m]\u001b[0m\u001b[1;33m]\u001b[0m\u001b[1;33m\u001b[0m\u001b[1;33m\u001b[0m\u001b[0m\n\u001b[0;32m      5\u001b[0m \u001b[0mtarget\u001b[0m \u001b[1;33m=\u001b[0m \u001b[0mtrain_df\u001b[0m\u001b[1;33m[\u001b[0m\u001b[1;34m'target'\u001b[0m\u001b[1;33m]\u001b[0m\u001b[1;33m\u001b[0m\u001b[1;33m\u001b[0m\u001b[0m\n",
      "\u001b[1;31mNameError\u001b[0m: name 'pd' is not defined"
     ]
    }
   ],
   "source": [
    "train_df = pd.read_csv(\"../input/train.csv\")\n",
    "test_df = pd.read_csv(\"../input/test.csv\")\n",
    "\n",
    "idx = [c for c in train_df.columns if c not in ['ID_code', 'target']]\n",
    "target = train_df['target']\n",
    "\n",
    "df_list = [train_df, test_df]\n",
    "new_df_list = []\n",
    "new_train_df = pd.DataFrame()\n",
    "new_train_df['target'] = train_df['target']\n",
    "new_train_df['ID_code'] = train_df['ID_code']\n",
    "new_test_df = pd.DataFrame()\n",
    "new_test_df['ID_code'] = test_df['ID_code']\n",
    "new_df_list = [new_train_df, new_test_df]\n",
    "for i in range(0, len(df_list)):        \n",
    "    for feat in idx:\n",
    "        mean = df_list[i].loc[:,feat].mean()\n",
    "        new_df_list[i][feat] = df_list[i][feat]\n",
    "        new_df_list[i][\"mm_\" + feat] = np.round(df_list[i][feat] - mean , 2) \n",
    "        if mean > 0:\n",
    "            new_df_list[i][\"is_more_\" + feat] = np.where( df_list[i][feat] > mean, 10, -10 )\n",
    "        if mean < 0: \n",
    "            new_df_list[i][\"is_more_\" + feat] = np.where( df_list[i][feat] < mean, 10, -10 )\n",
    "            \n",
    "features = [c for c in new_train_df.columns if c not in ['ID_code', 'target']]\n",
    "target = new_train_df['target']\n",
    "\n",
    "N_FOLDS = 3.0\n",
    "\n",
    "model = CatBoostClassifier(loss_function=\"Logloss\", eval_metric=\"AUC\")\n",
    "#model = CatBoostClassifier(eval_metric=\"AUC\", depth=10, iterations= 1500, l2_leaf_reg= 9, learning_rate= 0.15)\n",
    "\n",
    "\n",
    "kf = KFold(n_splits=int(N_FOLDS), random_state=2019, shuffle=True)\n",
    "\n",
    "y_valid_pred = 0 * target\n",
    "y_test_pred = 0\n",
    "\n",
    "new_train_df.info()\n",
    "\n",
    "for idx, (train_index, valid_index) in enumerate(kf.split(new_train_df)):\n",
    "    y_train, y_valid = target.iloc[train_index], target.iloc[valid_index]\n",
    "    X_train, X_valid = new_train_df[features].iloc[train_index,:], new_train_df[features].iloc[valid_index,:]\n",
    "    _train = Pool(X_train, label=y_train)\n",
    "    _valid = Pool(X_valid, label=y_valid)\n",
    "    print( \"\\nFold \", idx)\n",
    "    fit_model = model.fit(_train,\n",
    "                          eval_set=_valid,\n",
    "                          use_best_model=True,\n",
    "                          verbose=200\n",
    "                         )\n",
    "    pred = fit_model.predict_proba(X_valid)[:,1]\n",
    "    print( \"  auc = \", roc_auc_score(y_valid, pred) )\n",
    "    y_valid_pred.iloc[valid_index] = pred\n",
    "    y_test_pred += fit_model.predict_proba(new_test_df[features])[:,1]\n",
    "y_test_pred /= N_FOLDS\n",
    "\n",
    "sub_df1 = pd.DataFrame({\"ID_code\":test_df[\"ID_code\"].values})\n",
    "sub_df1[\"target\"] = y_test_pred\n",
    "sub_df1.to_csv(\"submission.csv\", index=False)\n"
   ]
  },
  {
   "cell_type": "code",
   "execution_count": null,
   "metadata": {},
   "outputs": [],
   "source": []
  }
 ],
 "metadata": {
  "kernelspec": {
   "display_name": "Python 3",
   "language": "python",
   "name": "python3"
  },
  "language_info": {
   "codemirror_mode": {
    "name": "ipython",
    "version": 3
   },
   "file_extension": ".py",
   "mimetype": "text/x-python",
   "name": "python",
   "nbconvert_exporter": "python",
   "pygments_lexer": "ipython3",
   "version": "3.6.7"
  }
 },
 "nbformat": 4,
 "nbformat_minor": 2
}
